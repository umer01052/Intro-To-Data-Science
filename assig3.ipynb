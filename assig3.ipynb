{
 "cells": [
  {
   "cell_type": "markdown",
   "metadata": {},
   "source": [
    "# Assignment 2: Building a Smart Data Aggregator\n",
    "\n",
    "##### This notebook implements various Python functions for handling user data, transaction data, sets, and dictionaries as required in the assignment I have to Work More and More."
   ]
  },
  {
   "cell_type": "markdown",
   "metadata": {},
   "source": [
    "#  Part 1: User Data Processing with Lists\n",
    "\n",
    "\n",
    "   We will write functions to:\n",
    "1. Filter out users older than 30 from USA and Canada.\n",
    "2. Extract their names into a new list.\n",
    "3. Sort the list by age and return the top 10 oldest users.\n",
    "4. Check for duplicate names in the list.\n",
    "\n",
    "\n",
    "\n",
    "\n",
    "\n"
   ]
  },
  {
   "cell_type": "code",
   "execution_count": 9,
   "metadata": {},
   "outputs": [
    {
     "name": "stdout",
     "output_type": "stream",
     "text": [
      "Filtered users: ['Brian', 'Daniel', 'Ella', 'Gloria', 'Hannah', 'Brian', 'Iris', 'Chris']\n",
      "Top 10 oldest users: [(12, 'Chris', 50, 'Canada'), (4, 'Daniel', 40, 'USA'), (11, 'Iris', 36, 'Canada'), (7, 'Gloria', 35, 'USA'), (2, 'Brian', 34, 'Canada'), (9, 'Brian', 34, 'USA'), (6, 'Ella', 33, 'Canada'), (8, 'Hannah', 31, 'USA'), (5, 'Ella', 29, 'Germany'), (1, 'Anna', 28, 'USA')]\n",
      "Duplicate names: ['Ella', 'Brian', 'Chris']\n"
     ]
    }
   ],
   "source": [
    "#Sample Data\n",
    "users = [\n",
    "    (1, \"Anna\", 28, \"USA\"),\n",
    "    (2, \"Brian\", 34, \"Canada\"),\n",
    "    (3, \"Chris\", 22, \"UK\"),\n",
    "    (4, \"Daniel\", 40, \"USA\"),\n",
    "    (5, \"Ella\", 29, \"Germany\"),\n",
    "    (6, \"Ella\", 33, \"Canada\"),\n",
    "    (7, \"Gloria\", 35, \"USA\"),\n",
    "    (8, \"Hannah\", 31, \"USA\"),\n",
    "    (9, \"Brian\", 34, \"USA\"),    \n",
    "    (10, \"Chris\", 22, \"Canada\"),\n",
    "    (11, \"Iris\", 36, \"Canada\"),\n",
    "    (12, \"Chris\", 50, \"Canada\") \n",
    "]\n",
    "\n",
    "# 1. Count unique users\n",
    "def filter_users(users):\n",
    "    names = []\n",
    "    for user in users: \n",
    "        if user[2] > 30 and user[3] in ['USA', 'Canada']:   \n",
    "            names.append(user[1])\n",
    "    return names\n",
    "# 2. Sort by age and return the top 10 oldest users\n",
    "def top_10_old(users):\n",
    "    sorted_users = sorted(users, key=lambda x: x[2], reverse=True)\n",
    "\n",
    "    return sorted_users[:10]\n",
    "\n",
    "# 3. Check for duplicate names\n",
    "def find_duplicate(users):\n",
    "    names = []\n",
    "    duplicates = []\n",
    "    for user in users:\n",
    "        name = user[1]\n",
    "        if name in names and name not in duplicates:\n",
    "            duplicates.append(name)\n",
    "        else:\n",
    "            names.append(name) \n",
    "    return duplicates\n",
    "\n",
    "# Testing the functions\n",
    "print(\"Filtered users:\", filter_users(users))\n",
    "print(\"Top 10 oldest users:\", top_10_old(users))\n",
    "print(\"Duplicate names:\", find_duplicate(users))"
   ]
  },
  {
   "cell_type": "markdown",
   "metadata": {},
   "source": [
    "# Part 2: Immutable Data Management with Tuple\n",
    "\n",
    "\n",
    "1. Count the number of unique users.\n",
    "2. The transaction with the highest amount.\n",
    "3. Separate the transaction_ids and user_ids into two lists."
   ]
  },
  {
   "cell_type": "code",
   "execution_count": 10,
   "metadata": {},
   "outputs": [
    {
     "name": "stdout",
     "output_type": "stream",
     "text": [
      "Unique users:  5\n",
      "Highest transaction: (106, 2, 520.0, '2023-10-03 16:45')\n",
      "Transaction IDs and User IDs: ([101, 102, 103, 104, 105, 106, 107], [1, 2, 1, 3, 4, 2, 5])\n"
     ]
    }
   ],
   "source": [
    "#Sample Data\n",
    "transactions = [\n",
    "    (101, 1, 250.0, \"2023-10-01 10:00\"),\n",
    "    (102, 2, 175.5, \"2023-10-01 11:30\"),\n",
    "    (103, 1, 300.0, \"2023-10-02 09:45\"),\n",
    "    (104, 3, 450.0, \"2023-10-02 10:15\"),\n",
    "    (105, 4, 120.0, \"2023-10-03 14:30\"),\n",
    "    (106, 2, 520.0, \"2023-10-03 16:45\"),\n",
    "    (107, 5, 100.0, \"2023-10-04 08:20\"),\n",
    "]\n",
    "\n",
    "# 1. Count unique users\n",
    "def count_unique_users(transactions):\n",
    "    user_ids = set([t[1] for t in transactions])\n",
    "    return len(user_ids)\n",
    "\n",
    "# 2. Find the transaction with the highest amount\n",
    "def highest_transaction(transactions):\n",
    "    return max(transactions, key=lambda x: x[2])\n",
    "\n",
    "# 3. Separate transaction_ids and user_ids\n",
    "\n",
    "def extract_transaction_and_user_ids(transactions):\n",
    "    transaction_ids = [t[0] for t in transactions]\n",
    "    user_ids = [t[1] for t in transactions]\n",
    "    return transaction_ids, user_ids\n",
    "\n",
    "# Testing the functions\n",
    "print(\"Unique users: \", count_unique_users(transactions))\n",
    "print(\"Highest transaction:\", highest_transaction(transactions))\n",
    "print(\"Transaction IDs and User IDs:\", extract_transaction_and_user_ids(transactions))\n"
   ]
  },
  {
   "cell_type": "markdown",
   "metadata": {},
   "source": [
    "# Part 3: Unique Data Handling with Sets\n",
    "This part deals with managing unique sets of user IDs who visited different pages. We will:\n",
    "\n",
    "1. Find users who visited both Page A and Page B.\n",
    "2. Find users who visited either Page A or Page C but not both.\n",
    "3. Update the set for Page A with new user IDs.\n",
    "4. Remove a list of user IDs from Page B."
   ]
  },
  {
   "cell_type": "code",
   "execution_count": 11,
   "metadata": {},
   "outputs": [
    {
     "name": "stdout",
     "output_type": "stream",
     "text": [
      "Users who visited both Page A and Page B: {5, 6}\n",
      "Users who visited either Page A or Page C but not both: {1, 2, 3, 4, 7, 8, 9, 10, 11, 12, 13, 14, 15, 16, 17, 18}\n",
      "Updated Page A: None\n",
      "Updated Page B: {5, 6, 12, 13, 14, 15, 16, 17, 18}\n"
     ]
    }
   ],
   "source": [
    "#Sample Data\n",
    "page_a = {1, 2, 3, 4, 5, 6, 7, 8, 9, 10}\n",
    "page_c = {5, 6, 11, 12, 13, 14, 15, 16, 17, 18}\n",
    "\n",
    "#  Users who visited both Page A and Page B\n",
    "def find_common_users(page_a, page_c):\n",
    "    return page_a.intersection(page_c)\n",
    "\n",
    "# Users who visited either Page A or Page C but not both\n",
    "def find_unique_users(page_a, page_c):\n",
    "    unique_users = (page_a - page_c) | (page_c - page_a)\n",
    "    return unique_users\n",
    "#  Update Page A with new user IDs\n",
    "\n",
    "def update_page_a(page_a, new_users):\n",
    "    page_a.update(new_users)\n",
    "\n",
    "# 4. Remove users from Page B\n",
    "def remove_from_page_c(page_c, remove_users):\n",
    "    page_c.difference_update(remove_users)\n",
    "    return page_c\n",
    "\n",
    "# Testing the functions\n",
    "new_users = {11, 12}\n",
    "users_to_remove = {11}\n",
    "print(\"Users who visited both Page A and Page B:\", find_common_users(page_a, page_c))\n",
    "print(\"Users who visited either Page A or Page C but not both:\", find_unique_users(page_a, page_c))\n",
    "print(\"Updated Page A:\", update_page_a(page_a, new_users))\n",
    "print(\"Updated Page B:\", remove_from_page_c(page_c, users_to_remove))\n"
   ]
  },
  {
   "cell_type": "markdown",
   "metadata": {},
   "source": [
    "# Part 4: Data Aggregation with Dictionaries\n",
    " In this part, we will handle feedback data stored in dictionaries. The tasks are:\n",
    "\n",
    "1. Filter users with a rating of 4 or higher.\n",
    "2. Sort the dictionary by rating and return the top 5 users.\n",
    "3. Combine feedback from multiple dictionaries.\n",
    "4. Use dictionary comprehension to filter users with a rating greater than 3."
   ]
  },
  {
   "cell_type": "code",
   "execution_count": 12,
   "metadata": {},
   "outputs": [
    {
     "name": "stdout",
     "output_type": "stream",
     "text": [
      "Users with rating 4 or higher: {1: 5, 2: 4, 4: 5, 6: 4, 8: 5, 9: 4, 11: 4, 13: 5, 14: 4}\n",
      "Top 5 feedback: {1: {'rating': 5, 'comments': 'Excellent service!'}, 4: {'rating': 5, 'comments': 'Loved it!'}, 8: {'rating': 5, 'comments': 'Would recommend to everyone!'}, 13: {'rating': 5, 'comments': 'Absolutely fantastic!'}, 2: {'rating': 4, 'comments': 'Very good experience.'}}\n",
      "Combined feedback: {1: {'rating': 5, 'comments': 'Excellent service!'}, 2: {'rating': 4, 'comments': 'Very good experience. / Average service.'}, 3: {'rating': 4, 'comments': 'Not satisfied. / Really enjoyed my time.'}, 4: {'rating': 5, 'comments': 'Loved it!'}, 5: {'rating': 3, 'comments': 'It was okay.'}, 6: {'rating': 4, 'comments': 'Really enjoyed my time.'}, 7: {'rating': 1, 'comments': 'Very disappointing.'}, 8: {'rating': 5, 'comments': 'Would recommend to everyone!'}, 9: {'rating': 4, 'comments': 'Great atmosphere.'}, 10: {'rating': 3, 'comments': 'Average, nothing special.'}, 11: {'rating': 4, 'comments': 'Had a great time!'}, 12: {'rating': 2, 'comments': 'Won’t be back.'}, 13: {'rating': 5, 'comments': 'Absolutely fantastic!'}, 14: {'rating': 4, 'comments': 'Very pleasant experience.'}, 15: {'rating': 3, 'comments': 'Decent, but could be better.'}}\n",
      "Users with rating above 3: {1: 5, 2: 4, 3: 4, 4: 5, 6: 4, 8: 5, 9: 4, 11: 4, 13: 5, 14: 4}\n"
     ]
    }
   ],
   "source": [
    "#Sample Data\n",
    "feedback = {\n",
    "    1: {'rating': 5, 'comments': 'Excellent service!'},\n",
    "    2: {'rating': 4, 'comments': 'Very good experience.'},\n",
    "    3: {'rating': 2, 'comments': 'Not satisfied.'},\n",
    "    4: {'rating': 5, 'comments': 'Loved it!'},\n",
    "    5: {'rating': 3, 'comments': 'It was okay.'},\n",
    "    6: {'rating': 4, 'comments': 'Really enjoyed my time.'},\n",
    "    7: {'rating': 1, 'comments': 'Very disappointing.'},\n",
    "    8: {'rating': 5, 'comments': 'Would recommend to everyone!'},\n",
    "    9: {'rating': 4, 'comments': 'Great atmosphere.'},\n",
    "    10: {'rating': 3, 'comments': 'Average, nothing special.'},\n",
    "    11: {'rating': 4, 'comments': 'Had a great time!'},\n",
    "    12: {'rating': 2, 'comments': 'Won’t be back.'},\n",
    "    13: {'rating': 5, 'comments': 'Absolutely fantastic!'},\n",
    "    14: {'rating': 4, 'comments': 'Very pleasant experience.'},\n",
    "    15: {'rating': 3, 'comments': 'Decent, but could be better.'},\n",
    "}\n",
    "\n",
    "# Filter users with a rating of 4 or higher\n",
    "def filter_high_ratings(feedback):\n",
    "    high_ratings = {}  \n",
    "    for user_id, details in feedback.items():\n",
    "        if details['rating'] >= 4:\n",
    "            high_ratings[user_id] = details['rating']\n",
    "    return high_ratings \n",
    "\n",
    "# Sort feedback by rating\n",
    "def sort_by_rating(feedback):\n",
    "    sorted_feedback = sorted(feedback.items(), key=lambda x: x[1]['rating'], reverse=True)\n",
    "    return dict(sorted_feedback[:5])\n",
    "# Combine feedback from multiple dictionaries\n",
    "def combine_feedback(dict1, dict2):\n",
    "    combined = dict1.copy()  \n",
    "    for user_id, info in dict2.items(): \n",
    "        if user_id in combined:   \n",
    "            combined[user_id]['rating'] = max(combined[user_id]['rating'], info['rating'])   \n",
    "            combined[user_id]['comments'] += \" / \" + info['comments']\n",
    "        else:     \n",
    "            combined[user_id] = info\n",
    "    return combined  \n",
    "\n",
    "    \n",
    "# Dictionary comprehension for rating > 3\n",
    "def ratings_above_3(feedback):\n",
    "    above_ratings = {}  \n",
    "    for user_id, details in feedback.items():\n",
    "        if details['rating'] > 3:\n",
    "            above_ratings[user_id] = details['rating']\n",
    "    return above_ratings \n",
    "\n",
    "# Testing the functions\n",
    "print(\"Users with rating 4 or higher:\", filter_high_ratings(feedback))\n",
    "print(\"Top 5 feedback:\", sort_by_rating(feedback))\n",
    "\n",
    "feedback2 = {\n",
    "    2: {'rating': 3, 'comments': 'Average service.'},\n",
    "    3: {'rating': 4, 'comments': 'Really enjoyed my time.'},\n",
    "}\n",
    "print(\"Combined feedback:\", combine_feedback(feedback,feedback2))\n",
    "print(\"Users with rating above 3:\", ratings_above_3(feedback))\n"
   ]
  }
 ],
 "metadata": {
  "kernelspec": {
   "display_name": "Python 3",
   "language": "python",
   "name": "python3"
  },
  "language_info": {
   "codemirror_mode": {
    "name": "ipython",
    "version": 3
   },
   "file_extension": ".py",
   "mimetype": "text/x-python",
   "name": "python",
   "nbconvert_exporter": "python",
   "pygments_lexer": "ipython3",
   "version": "3.11.1"
  }
 },
 "nbformat": 4,
 "nbformat_minor": 2
}
