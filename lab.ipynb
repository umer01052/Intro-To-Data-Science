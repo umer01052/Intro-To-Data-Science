{
 "cells": [
  {
   "cell_type": "markdown",
   "metadata": {},
   "source": [
    "#                                  LAB TASKS"
   ]
  },
  {
   "cell_type": "markdown",
   "metadata": {},
   "source": [
    "#  Task1:  Create a 1D array of integers from 1 to 20\n",
    "\n",
    "\n",
    "   \n",
    "1. Reshape it into a 4x5 2D array.\n",
    "2. Replace all elements in the last column with zeros.\n",
    "3. Finally, flatten the array back to 1D and print the result.\n",
    "\n",
    "\n",
    "\n",
    "\n",
    "\n"
   ]
  },
  {
   "cell_type": "code",
   "execution_count": 10,
   "metadata": {},
   "outputs": [
    {
     "name": "stdout",
     "output_type": "stream",
     "text": [
      "[ 1  2  3  4  5  6  7  8  9 10 11 12 13 14 15 16 17 18 19 20]\n",
      "[[ 1  2  3  4  0]\n",
      " [ 6  7  8  9  0]\n",
      " [11 12 13 14  0]\n",
      " [16 17 18 19  0]]\n",
      "array after modifications: [ 1  2  3  4  0  6  7  8  9  0 11 12 13 14  0 16 17 18 19  0]\n"
     ]
    }
   ],
   "source": [
    "import numpy as np\n",
    "\n",
    "array1 = np.arange(1, 21)\n",
    "print(array1)\n",
    "array2 = array1.reshape(4, 5)\n",
    "array2[:, -1] = 0\n",
    "print(array2)\n",
    "array3 = array2.flatten()\n",
    "print(\"array after modifications:\", array3)\n"
   ]
  },
  {
   "cell_type": "markdown",
   "metadata": {},
   "source": [
    "#  Task2: Generate a 2D array of random integers between 10 and 50 with a shape of 5x5\n",
    "\n",
    "   \n",
    "1. Calculate and print the mean, sum, minimum, and maximum values for \n",
    "each row and each column separately.\n"
   ]
  },
  {
   "cell_type": "code",
   "execution_count": 11,
   "metadata": {},
   "outputs": [
    {
     "name": "stdout",
     "output_type": "stream",
     "text": [
      "5x5 array:\n",
      " [[48 33 49 10 32]\n",
      " [34 41 44 37 13]\n",
      " [35 33 42 31 40]\n",
      " [24 35 15 22 14]\n",
      " [28 10 44 43 30]]\n",
      "\n",
      "Row-wise :\n",
      "Row 1: Mean=34.4, Sum=172, Min=10, Max=49\n",
      "Row 2: Mean=33.8, Sum=169, Min=13, Max=44\n",
      "Row 3: Mean=36.2, Sum=181, Min=31, Max=42\n",
      "Row 4: Mean=22.0, Sum=110, Min=14, Max=35\n",
      "Row 5: Mean=31.0, Sum=155, Min=10, Max=44\n",
      "\n",
      "Column-wise :\n",
      "Column 1: Mean=33.8, Sum=169, Min=24, Max=48\n",
      "Column 2: Mean=30.4, Sum=152, Min=10, Max=41\n",
      "Column 3: Mean=38.8, Sum=194, Min=15, Max=49\n",
      "Column 4: Mean=28.6, Sum=143, Min=10, Max=43\n",
      "Column 5: Mean=25.8, Sum=129, Min=13, Max=40\n"
     ]
    }
   ],
   "source": [
    "\n",
    "array0 = np.random.randint(10, 50, (5, 5))\n",
    "print(\"5x5 array:\\n\", array0)\n",
    "\n",
    "row_means = np.mean(array0, axis=1)\n",
    "row_sums = np.sum(array0, axis=1)\n",
    "row_mins = np.min(array0, axis=1)\n",
    "row_maxs = np.max(array0, axis=1)\n",
    "\n",
    "print(\"\\nRow-wise :\")\n",
    "for i in range(5):\n",
    "    print(f\"Row {i + 1}: Mean={row_means[i]}, Sum={row_sums[i]}, Min={row_mins[i]}, Max={row_maxs[i]}\")\n",
    "\n",
    "\n",
    "col_means = np.mean(array0, axis=0)\n",
    "col_sums = np.sum(array0, axis=0)\n",
    "col_mins = np.min(array0, axis=0)\n",
    "col_maxs = np.max(array0, axis=0)\n",
    "\n",
    "print(\"\\nColumn-wise :\")\n",
    "for i in range(5):\n",
    "    print(f\"Column {i + 1}: Mean={col_means[i]}, Sum={col_sums[i]}, Min={col_mins[i]}, Max={col_maxs[i]}\")\n"
   ]
  },
  {
   "cell_type": "markdown",
   "metadata": {},
   "source": [
    "#  Task3: Create an identity matrix of size 4x4\n",
    "   \n",
    "1. Add a constant (e.g., 5) to each element in the diagonal.\n",
    "2. Then replace the last row with a row of ones.\n"
   ]
  },
  {
   "cell_type": "code",
   "execution_count": 12,
   "metadata": {},
   "outputs": [
    {
     "name": "stdout",
     "output_type": "stream",
     "text": [
      "Orignal [[1. 0. 0. 0.]\n",
      " [0. 1. 0. 0.]\n",
      " [0. 0. 1. 0.]\n",
      " [0. 0. 0. 1.]]\n",
      "modify identity matrix:\n",
      " [[7. 0. 0. 0.]\n",
      " [0. 7. 0. 0.]\n",
      " [0. 0. 7. 0.]\n",
      " [1. 1. 1. 1.]]\n"
     ]
    }
   ],
   "source": [
    "matrix = np.eye(4)\n",
    "\n",
    "print(\"Orignal\",matrix)\n",
    "np.fill_diagonal(matrix, matrix.diagonal() + 6)\n",
    "\n",
    "matrix[-1, :] = 1\n",
    "\n",
    "print(\"modify identity matrix:\\n\", matrix)\n"
   ]
  },
  {
   "cell_type": "markdown",
   "metadata": {},
   "source": [
    "#  Task4: Create an identity matrix of size 4x4\n",
    "   \n",
    "1. Count and display the number of occurrences of each unique value in the array\n",
    "2. List the indices of elements greater than 10.\n",
    "   \n",
    "\n"
   ]
  },
  {
   "cell_type": "code",
   "execution_count": 13,
   "metadata": {},
   "outputs": [
    {
     "name": "stdout",
     "output_type": "stream",
     "text": [
      "Generated 1D array: [18 11  4  0 10  7  0  6  2  7 18 12 13  0  3]\n",
      "\n",
      " unique value: {0: 3, 2: 1, 3: 1, 4: 1, 6: 1, 7: 2, 10: 1, 11: 1, 12: 1, 13: 1, 18: 2}\n",
      " indices greater than 10: [ 0  1 10 11 12]\n"
     ]
    }
   ],
   "source": [
    "\n",
    "\n",
    "array = np.random.randint(0, 20, 15)\n",
    "print(\"Generated 1D array:\", array)\n",
    "\n",
    "\n",
    "unique_values, counts = np.unique(array, return_counts=True)\n",
    "occurrences = dict(zip(unique_values, counts))\n",
    "print(\"\\n unique value:\", occurrences)\n",
    "\n",
    "\n",
    "greater_than_10 = np.where(array > 10)[0]\n",
    "print(\" indices greater than 10:\", greater_than_10)\n"
   ]
  },
  {
   "cell_type": "markdown",
   "metadata": {},
   "source": [
    "#  Task5: Create a 3x4 array filled with random floating-point numbers between 0 and 1\n",
    "   \n",
    "1. Round each element to two decimal places\n",
    "2. Replace the elements in the second column with 0.5\n",
    "   \n"
   ]
  },
  {
   "cell_type": "code",
   "execution_count": 14,
   "metadata": {},
   "outputs": [
    {
     "name": "stdout",
     "output_type": "stream",
     "text": [
      "Modifiy array:\n",
      " [[0.74 0.5  0.45 0.54]\n",
      " [0.18 0.5  0.44 0.76]\n",
      " [0.04 0.5  0.61 0.28]]\n"
     ]
    }
   ],
   "source": [
    "\n",
    "arr = np.random.rand(3, 4)\n",
    "\n",
    "arr = np.round(arr, 2)\n",
    "\n",
    "arr[:, 1] = 0.5\n",
    "\n",
    "print(\"Modifiy array:\\n\", arr)\n"
   ]
  }
 ],
 "metadata": {
  "kernelspec": {
   "display_name": "Python 3",
   "language": "python",
   "name": "python3"
  },
  "language_info": {
   "codemirror_mode": {
    "name": "ipython",
    "version": 3
   },
   "file_extension": ".py",
   "mimetype": "text/x-python",
   "name": "python",
   "nbconvert_exporter": "python",
   "pygments_lexer": "ipython3",
   "version": "3.11.1"
  }
 },
 "nbformat": 4,
 "nbformat_minor": 2
}
