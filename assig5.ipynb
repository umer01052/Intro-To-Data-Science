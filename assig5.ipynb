{
 "cells": [
  {
   "cell_type": "markdown",
   "metadata": {},
   "source": [
    "# Assignment 5: Python Programming Concepts\n",
    "\n",
    "##### You are a data analyst for a retail company. Your task is to analyze customer and sales data to generate meaningful insights while handling real-world data issues."
   ]
  },
  {
   "cell_type": "markdown",
   "metadata": {},
   "source": [
    "#  Task 1: Load the given datasets into Pandas DataFrames. Inspect the datasets and perform the following: \n",
    "\n",
    "   We will write functions to:\n",
    "1. Display the first few rows of each dataset.\n",
    "2. Show the total number of rows and columns. .\n",
    "3. Check for missing values in each dataset and handle them appropriately.."
   ]
  },
  {
   "cell_type": "code",
   "execution_count": 1,
   "metadata": {},
   "outputs": [
    {
     "name": "stdout",
     "output_type": "stream",
     "text": [
      "First few rows of customers dataset:\n",
      "   CustomerID  Age         City\n",
      "0           1   22     New York\n",
      "1           2   23  Los Angeles\n",
      "2           3   24      Chicago\n",
      "3           4   25      Houston\n",
      "4           5   26      Phoenix\n",
      "\n",
      "First few rows of sales dataset:\n",
      "   SaleID  CustomerID     Product  Amount\n",
      "0     101           1      Laptop     200\n",
      "1     102           2  Smartphone     500\n",
      "2     103           3      Tablet     800\n",
      "3     104           4  Headphones    1100\n",
      "4     105           5     Monitor    1400\n",
      "\n",
      "Customers dataset shape: (100, 3)\n",
      "Sales dataset shape: (400, 4)\n",
      "\n",
      "Missing values in customers dataset:\n",
      "CustomerID    0\n",
      "Age           0\n",
      "City          0\n",
      "dtype: int64\n",
      "\n",
      "Missing values in sales dataset:\n",
      "SaleID        0\n",
      "CustomerID    0\n",
      "Product       0\n",
      "Amount        0\n",
      "dtype: int64\n"
     ]
    }
   ],
   "source": [
    "import pandas as pd\n",
    "\n",
    "\n",
    "customers_df = pd.read_csv('customers.csv')\n",
    "sales_df = pd.read_csv('sales.csv')\n",
    "\n",
    "\n",
    "print(\"First few rows of customers dataset:\")\n",
    "print(customers_df.head())\n",
    "\n",
    "print(\"\\nFirst few rows of sales dataset:\")\n",
    "print(sales_df.head())\n",
    "\n",
    "\n",
    "print(\"\\nCustomers dataset shape:\", customers_df.shape)\n",
    "print(\"Sales dataset shape:\", sales_df.shape)\n",
    "\n",
    "\n",
    "print(\"\\nMissing values in customers dataset:\")\n",
    "print(customers_df.isnull().sum())\n",
    "\n",
    "print(\"\\nMissing values in sales dataset:\")\n",
    "print(sales_df.isnull().sum())\n"
   ]
  },
  {
   "cell_type": "markdown",
   "metadata": {},
   "source": [
    "#  Task 2:Using the customers.csv file, convert its data into a Python dictionary: \n",
    "\n",
    "   We will write functions to:\n",
    "1.  Use the dictionary to filter customers from a specific city.\n",
    "2. Repeat the operation using a DataFrame and compare the efficiency of both approaches.\n"
   ]
  },
  {
   "cell_type": "code",
   "execution_count": 4,
   "metadata": {},
   "outputs": [
    {
     "name": "stdout",
     "output_type": "stream",
     "text": [
      "\n",
      "Filtered customers from a specific city using dictionary: [{'CustomerID': 1, 'Age': 22, 'City': 'New York'}, {'CustomerID': 6, 'Age': 27, 'City': 'New York'}, {'CustomerID': 11, 'Age': 32, 'City': 'New York'}, {'CustomerID': 16, 'Age': 37, 'City': 'New York'}, {'CustomerID': 21, 'Age': 42, 'City': 'New York'}, {'CustomerID': 26, 'Age': 47, 'City': 'New York'}, {'CustomerID': 31, 'Age': 22, 'City': 'New York'}, {'CustomerID': 36, 'Age': 27, 'City': 'New York'}, {'CustomerID': 41, 'Age': 32, 'City': 'New York'}, {'CustomerID': 46, 'Age': 37, 'City': 'New York'}, {'CustomerID': 51, 'Age': 42, 'City': 'New York'}, {'CustomerID': 56, 'Age': 47, 'City': 'New York'}, {'CustomerID': 61, 'Age': 22, 'City': 'New York'}, {'CustomerID': 66, 'Age': 27, 'City': 'New York'}, {'CustomerID': 71, 'Age': 32, 'City': 'New York'}, {'CustomerID': 76, 'Age': 37, 'City': 'New York'}, {'CustomerID': 81, 'Age': 42, 'City': 'New York'}, {'CustomerID': 86, 'Age': 47, 'City': 'New York'}, {'CustomerID': 91, 'Age': 22, 'City': 'New York'}, {'CustomerID': 96, 'Age': 27, 'City': 'New York'}]\n",
      "\n",
      "Filtered customers from a specific city using DataFrame:\n",
      "    CustomerID  Age      City\n",
      "0            1   22  New York\n",
      "5            6   27  New York\n",
      "10          11   32  New York\n",
      "15          16   37  New York\n",
      "20          21   42  New York\n",
      "25          26   47  New York\n",
      "30          31   22  New York\n",
      "35          36   27  New York\n",
      "40          41   32  New York\n",
      "45          46   37  New York\n",
      "50          51   42  New York\n",
      "55          56   47  New York\n",
      "60          61   22  New York\n",
      "65          66   27  New York\n",
      "70          71   32  New York\n",
      "75          76   37  New York\n",
      "80          81   42  New York\n",
      "85          86   47  New York\n",
      "90          91   22  New York\n",
      "95          96   27  New York\n"
     ]
    }
   ],
   "source": [
    "import pandas as pd\n",
    "customers_dict = customers_df.to_dict(orient='records')\n",
    "filtered_dict = [record for record in customers_dict if record['City'] == 'New York']\n",
    "print(\"\\nFiltered customers from a specific city using dictionary:\", filtered_dict)\n",
    "\n",
    "# Filter using DataFrame\n",
    "filtered_df = customers_df[customers_df['City'] == 'New York']\n",
    "print(\"\\nFiltered customers from a specific city using DataFrame:\")\n",
    "print(filtered_df)"
   ]
  },
  {
   "cell_type": "markdown",
   "metadata": {},
   "source": [
    "#  Task3: dentify duplicate rows, if any, in the datasets. Remove these duplicates to ensure clean data. After cleaning, verify that there are no duplicates left. "
   ]
  },
  {
   "cell_type": "code",
   "execution_count": 6,
   "metadata": {},
   "outputs": [
    {
     "name": "stdout",
     "output_type": "stream",
     "text": [
      "\n",
      "Duplicate Rows in Customers Dataset: 0\n",
      "Duplicate Rows in Sales Dataset: 0\n",
      "\n",
      "Duplicates removed successfully.\n"
     ]
    }
   ],
   "source": [
    "# Checking for duplicates\n",
    "print(\"\\nDuplicate Rows in Customers Dataset:\", customers_df.duplicated().sum())\n",
    "print(\"Duplicate Rows in Sales Dataset:\", sales_df.duplicated().sum())\n",
    "\n",
    "# Removing duplicates\n",
    "customers_df.drop_duplicates(inplace=True)\n",
    "sales_df.drop_duplicates(inplace=True)\n",
    "\n",
    "# Verifying no duplicates remain\n",
    "assert not customers_df.duplicated().any()\n",
    "assert not sales_df.duplicated().any()\n",
    "print(\"\\nDuplicates removed successfully.\")"
   ]
  },
  {
   "cell_type": "markdown",
   "metadata": {},
   "source": [
    "### Task 4: Discount Calculation and Grouping\n",
    "1. Add a new column in `sales.csv` to calculate the total amount after applying a 10% discount.\n",
    "2. Group the data by `Product` and calculate the total sales for each product.\n"
   ]
  },
  {
   "cell_type": "code",
   "execution_count": 7,
   "metadata": {},
   "outputs": [
    {
     "name": "stdout",
     "output_type": "stream",
     "text": [
      "\n",
      "Total Sales Per Product (after discount):\n",
      "      Product  DiscountedAmount\n",
      "0  Headphones           79200.0\n",
      "1      Laptop           14400.0\n",
      "2     Monitor          100800.0\n",
      "3  Smartphone           36000.0\n",
      "4      Tablet           57600.0\n"
     ]
    }
   ],
   "source": [
    "# Adding a column for discounted amount\n",
    "sales_df['DiscountedAmount'] = sales_df['Amount'] * 0.9\n",
    "\n",
    "# Grouping by Product and calculating total sales\n",
    "product_sales = sales_df.groupby('Product')['DiscountedAmount'].sum().reset_index()\n",
    "\n",
    "# Displaying the grouped data\n",
    "print(\"\\nTotal Sales Per Product (after discount):\")\n",
    "print(product_sales)"
   ]
  },
  {
   "cell_type": "markdown",
   "metadata": {},
   "source": [
    "### Task 5: Age Filtering and City Analysis\n",
    "1. Filter customers in the age range of 25 to 35 from `customers.csv`.\n",
    "2. Count the number of customers belonging to each city within this age range.\n"
   ]
  },
  {
   "cell_type": "code",
   "execution_count": 8,
   "metadata": {},
   "outputs": [
    {
     "name": "stdout",
     "output_type": "stream",
     "text": [
      "\n",
      "Customer Counts by City (Age 25-35):\n",
      "City\n",
      "Houston        11\n",
      "Phoenix         8\n",
      "New York        7\n",
      "Los Angeles     7\n",
      "Chicago         7\n",
      "Name: count, dtype: int64\n"
     ]
    }
   ],
   "source": [
    "# Filtering customers by age\n",
    "filtered_customers_age = customers_df[(customers_df['Age'] >= 25) & (customers_df['Age'] <= 35)]\n",
    "\n",
    "# Counting customers by city\n",
    "city_customer_counts = filtered_customers_age['City'].value_counts()\n",
    "\n",
    "print(\"\\nCustomer Counts by City (Age 25-35):\")\n",
    "print(city_customer_counts)"
   ]
  },
  {
   "cell_type": "markdown",
   "metadata": {},
   "source": [
    "### Task 6: Merging and Insights\n",
    "1. Merge `customers.csv` and `sales.csv` datasets on `CustomerID`.\n",
    "2. Identify:\n",
    "   - The city generating the highest total sales.\n",
    "   - The product with the most units sold."
   ]
  },
  {
   "cell_type": "code",
   "execution_count": 9,
   "metadata": {},
   "outputs": [
    {
     "name": "stdout",
     "output_type": "stream",
     "text": [
      "City with Highest Total Sales: Phoenix\n",
      "Product with Most Units Sold: Laptop\n"
     ]
    }
   ],
   "source": [
    "# Merging datasets\n",
    "merged_df = pd.merge(customers_df, sales_df, on='CustomerID')\n",
    "\n",
    "# Insights about the city with the highest total sales\n",
    "highest_sales_city = merged_df.groupby('City')['DiscountedAmount'].sum().idxmax()\n",
    "print(\"City with Highest Total Sales:\", highest_sales_city)\n",
    "\n",
    "# Most sold product based on occurrence in the Product column\n",
    "most_sold_product = merged_df['Product'].value_counts().idxmax()\n",
    "print(\"Product with Most Units Sold:\", most_sold_product)"
   ]
  },
  {
   "cell_type": "markdown",
   "metadata": {},
   "source": [
    "### Task 7: Unique Values and Statistical Analysis\n",
    "1. Display the unique values in the `City` and `Product` columns.\n",
    "2. Calculate the mean and median of the `Amount` column."
   ]
  },
  {
   "cell_type": "code",
   "execution_count": 10,
   "metadata": {},
   "outputs": [
    {
     "name": "stdout",
     "output_type": "stream",
     "text": [
      "\n",
      "Unique Cities: ['New York' 'Los Angeles' 'Chicago' 'Houston' 'Phoenix']\n",
      "Unique Products: ['Laptop' 'Smartphone' 'Tablet' 'Headphones' 'Monitor']\n",
      "\n",
      "Mean of Amount: 800.0\n",
      "Median of Amount: 800.0\n"
     ]
    }
   ],
   "source": [
    "# Exploring unique values\n",
    "unique_cities = merged_df['City'].unique()\n",
    "unique_products = merged_df['Product'].unique()\n",
    "\n",
    "print(\"\\nUnique Cities:\", unique_cities)\n",
    "print(\"Unique Products:\", unique_products)\n",
    "\n",
    "# Calculating statistics\n",
    "mean_amount = merged_df['Amount'].mean()\n",
    "median_amount = merged_df['Amount'].median()\n",
    "\n",
    "print(\"\\nMean of Amount:\", mean_amount)\n",
    "print(\"Median of Amount:\", median_amount)"
   ]
  }
 ],
 "metadata": {
  "kernelspec": {
   "display_name": "Python 3",
   "language": "python",
   "name": "python3"
  },
  "language_info": {
   "codemirror_mode": {
    "name": "ipython",
    "version": 3
   },
   "file_extension": ".py",
   "mimetype": "text/x-python",
   "name": "python",
   "nbconvert_exporter": "python",
   "pygments_lexer": "ipython3",
   "version": "3.11.1"
  }
 },
 "nbformat": 4,
 "nbformat_minor": 2
}
