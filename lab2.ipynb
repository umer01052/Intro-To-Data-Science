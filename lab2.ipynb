{
 "cells": [
  {
   "cell_type": "markdown",
   "metadata": {},
   "source": [
    "# Lab 2"
   ]
  },
  {
   "cell_type": "markdown",
   "metadata": {},
   "source": [
    "## task1\n"
   ]
  },
  {
   "cell_type": "code",
   "execution_count": null,
   "metadata": {},
   "outputs": [],
   "source": [
    "import pandas as pd\n",
    "file_path = 'Iris.csv'  \n",
    "df = pd.read_csv(file_path)\n",
    "\n",
    "\n",
    "print(\"Original column names:\", df.columns.tolist())\n",
    "\n",
    "\n",
    "df.columns = df.columns.str.strip().str.lower().str.replace(' ', '_')\n",
    "df.rename(columns={\n",
    "    'sepallengthcm': 'sepal_length',\n",
    "    'sepalwidthcm': 'sepal_width',\n",
    "    'petallengthcm': 'petal_length',\n",
    "    'petalwidthcm': 'petal_width',\n",
    "    'species': 'species'\n",
    "}, inplace=True)\n",
    "\n",
    "\n",
    "print(\"Renamed column names:\", df.columns.tolist())\n",
    "\n",
    "# Check if required columns exist\n",
    "required_columns = ['sepal_length', 'sepal_width', 'petal_length', 'petal_width', 'species']\n",
    "missing_columns = [col for col in required_columns if col not in df.columns]\n",
    "if missing_columns:\n",
    "    raise ValueError(f\"The following required columns are missing from the dataset: {missing_columns}\")\n",
    "\n",
    "\n",
    "\n",
    "missing_data = df.isnull().sum()\n",
    "print(\"Missing Values per Column:\")\n",
    "print(missing_data)\n",
    "\n",
    "num_columns = ['sepal_length', 'sepal_width', 'petal_length', 'petal_width']\n",
    "for col in num_columns:\n",
    "    median_value = df[col].median()\n",
    "    df[col].fillna(median_value, inplace=True)\n",
    "\n",
    "if 'species' in df.columns:\n",
    "    mode_value = df['species'].mode()[0]\n",
    "    df['species'].fillna(mode_value, inplace=True)"
   ]
  },
  {
   "cell_type": "markdown",
   "metadata": {},
   "source": [
    "## task2"
   ]
  },
  {
   "cell_type": "code",
   "execution_count": null,
   "metadata": {},
   "outputs": [
    {
     "name": "stdout",
     "output_type": "stream",
     "text": [
      "Original column names: ['Id', 'SepalLengthCm', 'SepalWidthCm', 'PetalLengthCm', 'PetalWidthCm', 'Species']\n",
      "Renamed column names: ['id', 'sepal_length', 'sepal_width', 'petal_length', 'petal_width', 'species']\n"
     ]
    }
   ],
   "source": [
    "import pandas as pd\n",
    "\n",
    "file_path = 'Iris.csv'  \n",
    "df = pd.read_csv(file_path)\n",
    "\n",
    "\n",
    "print(\"Original column names:\", df.columns.tolist())\n",
    "\n",
    "\n",
    "df.columns = df.columns.str.strip().str.lower().str.replace(' ', '_')\n",
    "df.rename(columns={\n",
    "    'sepallengthcm': 'sepal_length',\n",
    "    'sepalwidthcm': 'sepal_width',\n",
    "    'petallengthcm': 'petal_length',\n",
    "    'petalwidthcm': 'petal_width',\n",
    "    'species': 'species'\n",
    "}, inplace=True)\n",
    "\n",
    "\n",
    "print(\"Renamed column names:\", df.columns.tolist())\n",
    "\n",
    "\n",
    "required_columns = ['sepal_length', 'sepal_width', 'petal_length', 'petal_width', 'species']\n",
    "missing_columns = [col for col in required_columns if col not in df.columns]\n",
    "if missing_columns:\n",
    "    raise ValueError(f\"The following required columns are missing from the dataset: {missing_columns}\")\n",
    "\n",
    "df.drop_duplicates(inplace=True)\n",
    "df['sepal_area'] = df['sepal_length'] * df['sepal_width']\n",
    "df['petal_area'] = df['petal_length'] * df['petal_width']\n",
    "df['total_area'] = df['sepal_area'] + df['petal_area']\n",
    "df.dropna(inplace=True)\n",
    "\n"
   ]
  },
  {
   "cell_type": "markdown",
   "metadata": {},
   "source": [
    "# task3"
   ]
  },
  {
   "cell_type": "code",
   "execution_count": null,
   "metadata": {},
   "outputs": [
    {
     "name": "stdout",
     "output_type": "stream",
     "text": [
      "Original column names: ['Id', 'SepalLengthCm', 'SepalWidthCm', 'PetalLengthCm', 'PetalWidthCm', 'Species']\n",
      "Renamed column names: ['id', 'sepal_length', 'sepal_width', 'petal_length', 'petal_width', 'species']\n",
      "Grouped Aggregation:\n",
      "             sepal_length  sepal_width  petal_length  petal_width\n",
      "species_num                                                      \n",
      "0                   250.3        170.9          73.2         12.2\n",
      "1                   296.8        138.5         213.0         66.3\n",
      "2                   329.4        148.7         277.6        101.3\n"
     ]
    }
   ],
   "source": [
    "import pandas as pd\n",
    "\n",
    "\n",
    "file_path = 'Iris.csv'  \n",
    "df = pd.read_csv(file_path)\n",
    "\n",
    "\n",
    "print(\"Original column names:\", df.columns.tolist())\n",
    "\n",
    "\n",
    "df.columns = df.columns.str.strip().str.lower().str.replace(' ', '_')\n",
    "df.rename(columns={\n",
    "    'sepallengthcm': 'sepal_length',\n",
    "    'sepalwidthcm': 'sepal_width',\n",
    "    'petallengthcm': 'petal_length',\n",
    "    'petalwidthcm': 'petal_width',\n",
    "    'species': 'species'\n",
    "}, inplace=True)\n",
    "\n",
    "\n",
    "print(\"Renamed column names:\", df.columns.tolist())\n",
    "\n",
    "\n",
    "required_columns = ['sepal_length', 'sepal_width', 'petal_length', 'petal_width', 'species']\n",
    "missing_columns = [col for col in required_columns if col not in df.columns]\n",
    "if missing_columns:\n",
    "    raise ValueError(f\"The following required columns are missing from the dataset: {missing_columns}\")\n",
    "\n",
    "df['species_num'] = df['species'].astype('category').cat.codes\n",
    "\n",
    "aggregated_data = df.groupby('species_num').sum()[num_columns]\n",
    "print(\"Grouped Aggregation:\")\n",
    "print(aggregated_data)\n",
    "\n"
   ]
  },
  {
   "cell_type": "markdown",
   "metadata": {},
   "source": [
    "# task4"
   ]
  },
  {
   "cell_type": "code",
   "execution_count": null,
   "metadata": {},
   "outputs": [
    {
     "name": "stdout",
     "output_type": "stream",
     "text": [
      "Original column names: ['Id', 'SepalLengthCm', 'SepalWidthCm', 'PetalLengthCm', 'PetalWidthCm', 'Species']\n",
      "Renamed column names: ['id', 'sepal_length', 'sepal_width', 'petal_length', 'petal_width', 'species']\n",
      "Long Format Dataset:\n",
      "       species     attribute  value\n",
      "0  Iris-setosa  sepal_length    5.1\n",
      "1  Iris-setosa  sepal_length    4.9\n",
      "2  Iris-setosa  sepal_length    4.7\n",
      "3  Iris-setosa  sepal_length    4.6\n",
      "4  Iris-setosa  sepal_length    5.0\n",
      "Cleaned and reshaped datasets saved.\n"
     ]
    }
   ],
   "source": [
    "\n",
    "\n",
    "\n",
    "import pandas as pd\n",
    "file_path = 'Iris.csv'  \n",
    "df = pd.read_csv(file_path)\n",
    "print(\"Original column names:\", df.columns.tolist())\n",
    "\n",
    "\n",
    "df.columns = df.columns.str.strip().str.lower().str.replace(' ', '_')\n",
    "df.rename(columns={\n",
    "    'sepallengthcm': 'sepal_length',\n",
    "    'sepalwidthcm': 'sepal_width',\n",
    "    'petallengthcm': 'petal_length',\n",
    "    'petalwidthcm': 'petal_width',\n",
    "    'species': 'species'\n",
    "}, inplace=True)\n",
    "\n",
    "print(\"Renamed column names:\", df.columns.tolist())\n",
    "\n",
    "required_columns = ['sepal_length', 'sepal_width', 'petal_length', 'petal_width', 'species']\n",
    "missing_columns = [col for col in required_columns if col not in df.columns]\n",
    "if missing_columns:\n",
    "    raise ValueError(f\"The following required columns are missing from the dataset: {missing_columns}\")\n",
    "\n",
    "\n",
    "\n",
    "\n",
    "long_format = pd.melt(df, id_vars=['species'], \n",
    "                      value_vars=num_columns,\n",
    "                      var_name='attribute', \n",
    "                      value_name='value')\n",
    "print(\"Long Format Dataset:\")\n",
    "print(long_format.head())\n",
    "\n",
    "# Save the outputs to ensure data integrity\n",
    "df.to_csv('cleaned_iris.csv', index=False)\n",
    "long_format.to_csv('long_format_iris.csv', index=False)\n",
    "print(\"Cleaned and reshaped datasets saved.\")\n",
    "\n"
   ]
  }
 ],
 "metadata": {
  "kernelspec": {
   "display_name": "Python 3",
   "language": "python",
   "name": "python3"
  },
  "language_info": {
   "codemirror_mode": {
    "name": "ipython",
    "version": 3
   },
   "file_extension": ".py",
   "mimetype": "text/x-python",
   "name": "python",
   "nbconvert_exporter": "python",
   "pygments_lexer": "ipython3",
   "version": "3.11.1"
  }
 },
 "nbformat": 4,
 "nbformat_minor": 2
}
