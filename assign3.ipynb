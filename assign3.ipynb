{
 "cells": [
  {
   "cell_type": "markdown",
   "metadata": {},
   "source": [
    "# Assignment 3: Python Programming Concepts\n",
    "\n",
    "##### This notebook implements various Python functions  in the assignment."
   ]
  },
  {
   "cell_type": "markdown",
   "metadata": {},
   "source": [
    "#  Task 1: E-commerce Data Processing\n",
    "\n",
    "#### Part A: Data Validation\n",
    "\n",
    "   We will write functions to:\n",
    "1. Uses a lambda function with the filter() built-in function to filter out invalid\n",
    "orders where the total is either non-numeric or less than zero.\n",
    "2. Uses exception handling to handle any type conversion issues.\n",
    "3. Return the filtered valid orders as a list of dictionaries.\n"
   ]
  },
  {
   "cell_type": "code",
   "execution_count": 33,
   "metadata": {},
   "outputs": [
    {
     "name": "stdout",
     "output_type": "stream",
     "text": [
      "[{'customer': 'Alice', 'total': 250.5}, {'customer': 'Charlie', 'total': 450}, {'customer': 'Daisy', 'total': 100.0}]\n"
     ]
    }
   ],
   "source": [
    "orders = [\n",
    "    {\"customer\": \"Alice\", \"total\": 250.5},\n",
    "    {\"customer\": \"Bob\", \"total\": \"invalid_data\"},\n",
    "    {\"customer\": \"Charlie\", \"total\": 450},\n",
    "    {\"customer\": \"Daisy\", \"total\": 100.0},\n",
    "    {\"customer\": \"Eve\", \"total\": -30},  # Invalid total\n",
    "]\n",
    "\n",
    "def check_orders(order_list):\n",
    "    def is_valid(order):\n",
    "        try:\n",
    "            total = float(order[\"total\"])\n",
    "            return total >= 0\n",
    "        except (ValueError, TypeError):\n",
    "            return False\n",
    "\n",
    "    valid_orders = list(filter(is_valid, order_list))\n",
    "    return valid_orders\n",
    "\n",
    "valid_orders = check_orders(orders)\n",
    "print(valid_orders)\n"
   ]
  },
  {
   "cell_type": "markdown",
   "metadata": {},
   "source": [
    "#  Task 1: E-commerce Data Processing\n",
    "\n",
    "#### Part B: Data Validation\n",
    "\n",
    "   We will write functions to:\n",
    "1. Uses the map() function with a lambda to apply the discount to qualifying orders.\n",
    "2. UReturns a new list with the updated totals for each customer.\n"
   ]
  },
  {
   "cell_type": "code",
   "execution_count": 34,
   "metadata": {},
   "outputs": [
    {
     "name": "stdout",
     "output_type": "stream",
     "text": [
      "[{'customer': 'Alice', 'total': 250.5}, {'customer': 'Charlie', 'total': 405.0}, {'customer': 'Daisy', 'total': 100.0}]\n"
     ]
    }
   ],
   "source": [
    "orders = [\n",
    "    {\"customer\": \"Alice\", \"total\": 250.5},\n",
    "    {\"customer\": \"Charlie\", \"total\": 450},\n",
    "    {\"customer\": \"Daisy\", \"total\": 100.0},\n",
    "]\n",
    "def apply_discount_to_orders(order_list):\n",
    "    def apply_discount(order):\n",
    "        if order[\"total\"] > 300:\n",
    "            return {\"customer\": order[\"customer\"], \"total\": order[\"total\"] * 0.9}\n",
    "        else:\n",
    "            return order\n",
    "\n",
    "    return list(map(apply_discount, order_list))\n",
    "\n",
    "\n",
    "discounted_orders = apply_discount_to_orders(valid_orders)\n",
    "print(discounted_orders)\n",
    "\n"
   ]
  },
  {
   "cell_type": "markdown",
   "metadata": {},
   "source": [
    "#  Task 1: E-commerce Data Processing\n",
    "\n",
    "#### Part C: Data Validation\n",
    "\n",
    "Calculate the total sales from the list of valid orders (after applying discounts)."
   ]
  },
  {
   "cell_type": "code",
   "execution_count": 35,
   "metadata": {},
   "outputs": [
    {
     "name": "stdout",
     "output_type": "stream",
     "text": [
      "Total sales 755.5\n"
     ]
    }
   ],
   "source": [
    "from functools import reduce\n",
    "orders = [\n",
    "    {\"customer\": \"Alice\", \"total\": 250.5},\n",
    "    {\"customer\": \"Charlie\", \"total\": 450},\n",
    "    {\"customer\": \"Daisy\", \"total\": 100.0},\n",
    "]\n",
    "\n",
    "def sum_sales(orders):\n",
    "    def add_sales(accumulator, order):\n",
    "        return accumulator + order[\"total\"]\n",
    "    \n",
    "    total = reduce(add_sales, orders, 0)\n",
    "    return total\n",
    "\n",
    "total_sales = sum_sales(discounted_orders)\n",
    "print(\"Total sales\",total_sales)"
   ]
  },
  {
   "cell_type": "markdown",
   "metadata": {},
   "source": [
    "#  Task 2: Iterator and Generator\n",
    "\n",
    "#### Part A: Custom Iterator\n",
    "\n",
    "Create a custom iterator class SquareIterator that:\n",
    "1. Takes an integer n and iterates over the first n natural numbers, yielding their squares."
   ]
  },
  {
   "cell_type": "code",
   "execution_count": 36,
   "metadata": {},
   "outputs": [
    {
     "name": "stdout",
     "output_type": "stream",
     "text": [
      "1\n",
      "4\n",
      "9\n",
      "16\n",
      "25\n"
     ]
    }
   ],
   "source": [
    "class CustomIterator:\n",
    "    def __init__(self, n):\n",
    "        self.n = n\n",
    "        self.current = 1\n",
    "\n",
    "    def __iter__(self):\n",
    "        return self\n",
    "\n",
    "    def __next__(self):\n",
    "        if self.current <= self.n:\n",
    "            result = self.current ** 2\n",
    "            self.current += 1\n",
    "            return result\n",
    "        else:\n",
    "            raise StopIteration\n",
    "\n",
    "\n",
    "customs = CustomIterator(5)\n",
    "for i in customs:\n",
    "    print(i)\n"
   ]
  },
  {
   "cell_type": "markdown",
   "metadata": {},
   "source": [
    "#  Task 2: Iterator and Generator\n",
    "\n",
    "#### Part B: Fibonacci Generator\n",
    "\n",
    "Write a generator function fibonacci_generator() that:\n",
    "1. Yields the Fibonacci sequence up to the number n."
   ]
  },
  {
   "cell_type": "code",
   "execution_count": 37,
   "metadata": {},
   "outputs": [
    {
     "name": "stdout",
     "output_type": "stream",
     "text": [
      "0\n",
      "1\n",
      "1\n",
      "2\n",
      "3\n",
      "5\n",
      "8\n"
     ]
    }
   ],
   "source": [
    "def fibonacci(n):\n",
    "    a, b = 0, 1\n",
    "    while a <= n:\n",
    "        yield a\n",
    "        a, b = b, a + b\n",
    "\n",
    "\n",
    "for i in fibonacci(10):\n",
    "    print(i)\n"
   ]
  },
  {
   "cell_type": "markdown",
   "metadata": {},
   "source": [
    "#  Task 3: Exception Handling and Function Decorator\n",
    "#### Part A: Chained Exceptions\n",
    "Write a function that\n",
    "1. Takes a list of numbers and tries to divide each number by a divisor.\n",
    "2. If the divisor is zero, raise a custom exception.\n",
    "3. If any other error occurs (e.g., non-numeric input), raise an appropriate exception and\n",
    "chain it to the custom exception to provide context.\n"
   ]
  },
  {
   "cell_type": "code",
   "execution_count": 38,
   "metadata": {},
   "outputs": [
    {
     "name": "stdout",
     "output_type": "stream",
     "text": [
      "Custom Exception: Division by zero is not allowed.\n"
     ]
    }
   ],
   "source": [
    "class DivideException(Exception):\n",
    "    pass\n",
    "\n",
    "def divide_numbers(number_list, divisor):\n",
    "    try:\n",
    "        if divisor == 0:\n",
    "            raise DivideException(\"Division by zero is not allowed.\")\n",
    "        return [num / divisor for num in number_list]\n",
    "    except (TypeError, ValueError) as f:\n",
    "        raise DivideException(\"Error occurred during division\") from f\n",
    "\n",
    "\n",
    "try:\n",
    "    divide_numbers([10, 20, 'a'], 0)\n",
    "except DivideException as f:\n",
    "    print(f\"Custom Exception: {f}\")\n"
   ]
  },
  {
   "cell_type": "markdown",
   "metadata": {},
   "source": [
    "#  Task 3: Exception Handling and Function Decorator\n",
    "#### Part B: Exception Logging Decorator\n",
    "Create a decorator that:\n",
    "1. Logs exceptions raised during the execution of a function.\n",
    "2. It should print the exception type, message, and the function where the exception\n",
    "occurred."
   ]
  },
  {
   "cell_type": "code",
   "execution_count": 39,
   "metadata": {},
   "outputs": [
    {
     "name": "stdout",
     "output_type": "stream",
     "text": [
      "Exception occurred in function: 'divide'\n",
      "Exception Type: ZeroDivisionError\n",
      "Exception Message: division by zero\n"
     ]
    }
   ],
   "source": [
    "def exception_log(func):\n",
    "    def exceptio(a, b):\n",
    "        try:\n",
    "            # Try to execute the function\n",
    "            return func(a, b)\n",
    "        except Exception as e:\n",
    "            # Log the exception details\n",
    "            print(f\"Exception occurred in function: '{func.__name__}'\")\n",
    "            print(f\"Exception Type: {type(e).__name__}\")\n",
    "            print(f\"Exception Message: {e}\")\n",
    "            raise \n",
    "    return exceptio\n",
    "\n",
    "# Example usage:\n",
    "@exception_log\n",
    "def divide(x, y):\n",
    "    return x / y\n",
    "\n",
    "\n",
    "try:\n",
    "    divide(10, 0)  #\n",
    "except ZeroDivisionError:\n",
    "    pass\n"
   ]
  }
 ],
 "metadata": {
  "kernelspec": {
   "display_name": "Python 3",
   "language": "python",
   "name": "python3"
  },
  "language_info": {
   "codemirror_mode": {
    "name": "ipython",
    "version": 3
   },
   "file_extension": ".py",
   "mimetype": "text/x-python",
   "name": "python",
   "nbconvert_exporter": "python",
   "pygments_lexer": "ipython3",
   "version": "3.11.1"
  }
 },
 "nbformat": 4,
 "nbformat_minor": 2
}
