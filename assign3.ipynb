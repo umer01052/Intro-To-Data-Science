{
 "cells": [
  {
   "cell_type": "markdown",
   "metadata": {},
   "source": [
    "# Assignment 3: Python Programming Concepts\n",
    "\n",
    "##### This notebook implements various Python functions  in the assignment."
   ]
  },
  {
   "cell_type": "markdown",
   "metadata": {},
   "source": [
    "#  Task 1: E-commerce Data Processing\n",
    "\n",
    "#### Part A: Data Validation\n",
    "\n",
    "   We will write functions to:\n",
    "1. Uses a lambda function with the filter() built-in function to filter out invalid\n",
    "orders where the total is either non-numeric or less than zero.\n",
    "2. Uses exception handling to handle any type conversion issues.\n",
    "3. Return the filtered valid orders as a list of dictionaries.\n"
   ]
  },
  {
   "cell_type": "code",
   "execution_count": 4,
   "metadata": {},
   "outputs": [
    {
     "data": {
      "text/plain": [
       "[{'customer': 'Alice', 'total': 250.5},\n",
       " {'customer': 'Charlie', 'total': 450},\n",
       " {'customer': 'Daisy', 'total': 100.0}]"
      ]
     },
     "execution_count": 4,
     "metadata": {},
     "output_type": "execute_result"
    }
   ],
   "source": [
    "orders = [\n",
    "    {\"customer\": \"Alice\", \"total\": 250.5},\n",
    "    {\"customer\": \"Bob\", \"total\": \"invalid_data\"},\n",
    "    {\"customer\": \"Charlie\", \"total\": 450},\n",
    "    {\"customer\": \"Daisy\", \"total\": 100.0},\n",
    "    {\"customer\": \"Eve\", \"total\": -30},  # Invalid total\n",
    "]\n",
    "\n",
    "def validate_orders(order_list):\n",
    "    def is_valid_order(order):\n",
    "        try:\n",
    "            total = float(order[\"total\"])\n",
    "            return total >= 0\n",
    "        except (ValueError, TypeError):\n",
    "            return False\n",
    "\n",
    "    valid_orders = list(filter(lambda order: is_valid_order(order), order_list))\n",
    "    return valid_orders\n",
    "\n",
    "valid_orders = validate_orders(orders)\n",
    "valid_orders"
   ]
  },
  {
   "cell_type": "markdown",
   "metadata": {},
   "source": [
    "#  Task 1: E-commerce Data Processing\n",
    "\n",
    "#### Part B: Data Validation\n",
    "\n",
    "   We will write functions to:\n",
    "1. Uses the map() function with a lambda to apply the discount to qualifying orders.\n",
    "2. UReturns a new list with the updated totals for each customer.\n"
   ]
  },
  {
   "cell_type": "code",
   "execution_count": 5,
   "metadata": {},
   "outputs": [
    {
     "data": {
      "text/plain": [
       "[{'customer': 'Alice', 'total': 250.5},\n",
       " {'customer': 'Charlie', 'total': 405.0},\n",
       " {'customer': 'Daisy', 'total': 100.0}]"
      ]
     },
     "execution_count": 5,
     "metadata": {},
     "output_type": "execute_result"
    }
   ],
   "source": [
    "orders = [\n",
    "    {\"customer\": \"Alice\", \"total\": 250.5},\n",
    "    {\"customer\": \"Bob\", \"total\": \"invalid_data\"},\n",
    "    {\"customer\": \"Charlie\", \"total\": 450},\n",
    "    {\"customer\": \"Daisy\", \"total\": 100.0},\n",
    "    {\"customer\": \"Eve\", \"total\": -30},  # Invalid total\n",
    "]\n",
    "\n",
    "def apply_discount(order_list):\n",
    "    return list(map(lambda order: {\"customer\": order[\"customer\"], \"total\": order[\"total\"] * 0.9} if order[\"total\"] > 300 else order, order_list))\n",
    "\n",
    "discounted_orders = apply_discount(valid_orders)\n",
    "discounted_orders\n"
   ]
  },
  {
   "cell_type": "markdown",
   "metadata": {},
   "source": [
    "#  Task 1: E-commerce Data Processing\n",
    "\n",
    "#### Part C: Data Validation\n",
    "\n",
    "Calculate the total sales from the list of valid orders (after applying discounts)."
   ]
  },
  {
   "cell_type": "code",
   "execution_count": 6,
   "metadata": {},
   "outputs": [
    {
     "name": "stdout",
     "output_type": "stream",
     "text": [
      "Total sales 755.5\n"
     ]
    }
   ],
   "source": [
    "from functools import reduce\n",
    "orders = [\n",
    "    {\"customer\": \"Alice\", \"total\": 250.5},\n",
    "    {\"customer\": \"Bob\", \"total\": \"invalid_data\"},\n",
    "    {\"customer\": \"Charlie\", \"total\": 450},\n",
    "    {\"customer\": \"Daisy\", \"total\": 100.0},\n",
    "    {\"customer\": \"Eve\", \"total\": -30},  # Invalid total\n",
    "]\n",
    "\n",
    "\n",
    "def calculate_total_sales(order_list):\n",
    "    return reduce(lambda acc, order: acc + order[\"total\"], order_list, 0)\n",
    "\n",
    "total_sales = calculate_total_sales(discounted_orders)\n",
    "print(\"Total sales\",total_sales)"
   ]
  },
  {
   "cell_type": "markdown",
   "metadata": {},
   "source": [
    "#  Task 2: Iterator and Generator\n",
    "\n",
    "#### Part A: Custom Iterator\n",
    "\n",
    "Create a custom iterator class SquareIterator that:\n",
    "1. Takes an integer n and iterates over the first n natural numbers, yielding their squares."
   ]
  },
  {
   "cell_type": "code",
   "execution_count": 7,
   "metadata": {},
   "outputs": [
    {
     "name": "stdout",
     "output_type": "stream",
     "text": [
      "1\n",
      "4\n",
      "9\n",
      "16\n",
      "25\n"
     ]
    }
   ],
   "source": [
    "class SquareIterator:\n",
    "    def __init__(self, n):\n",
    "        self.n = n\n",
    "        self.current = 1\n",
    "\n",
    "    def __iter__(self):\n",
    "        return self\n",
    "\n",
    "    def __next__(self):\n",
    "        if self.current <= self.n:\n",
    "            result = self.current ** 2\n",
    "            self.current += 1\n",
    "            return result\n",
    "        else:\n",
    "            raise StopIteration\n",
    "\n",
    "# Example usage:\n",
    "square_iterator = SquareIterator(5)\n",
    "for square in square_iterator:\n",
    "    print(square)\n"
   ]
  }
 ],
 "metadata": {
  "kernelspec": {
   "display_name": "Python 3",
   "language": "python",
   "name": "python3"
  },
  "language_info": {
   "codemirror_mode": {
    "name": "ipython",
    "version": 3
   },
   "file_extension": ".py",
   "mimetype": "text/x-python",
   "name": "python",
   "nbconvert_exporter": "python",
   "pygments_lexer": "ipython3",
   "version": "3.11.1"
  }
 },
 "nbformat": 4,
 "nbformat_minor": 2
}
